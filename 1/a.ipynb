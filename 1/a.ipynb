{
 "cells": [
  {
   "cell_type": "markdown",
   "metadata": {},
   "source": [
    "# Basic python skills test\n",
    "### Please write your first and last name here: Nikita Komarov"
   ]
  },
  {
   "cell_type": "markdown",
   "metadata": {},
   "source": [
    "All tasks should be done in this notebook below the cell with \n",
    "problem statement. \n",
    "\n",
    "You can use any external tools or modules if you like.\n",
    "\n",
    "Assert statements, veryfying that your progam returns what is expected, should all return true."
   ]
  },
  {
   "cell_type": "code",
   "execution_count": null,
   "metadata": {},
   "outputs": [],
   "source": [
    "%pylab inline"
   ]
  },
  {
   "cell_type": "markdown",
   "metadata": {},
   "source": [
    "### Task 1"
   ]
  },
  {
   "cell_type": "markdown",
   "metadata": {},
   "source": [
    "Write the function **get_divisors(x)**, which returns a list of all numbers which are divisors of x, starting from 2 and except x itself. If none of divisors are available (x is prime), empty list is returned."
   ]
  },
  {
   "cell_type": "code",
   "execution_count": null,
   "metadata": {},
   "outputs": [],
   "source": [
    "def get_divisors(value):\n",
    "    result = []\n",
    "    for i in range(2,value / 2 + 1):\n",
    "        if value % i == 0:\n",
    "            result.append(i)\n",
    "    return result\n",
    "\n",
    "assert get_divisors(12)==[2, 3, 4, 6]\n",
    "\n",
    "assert get_divisors(153) == [3, 9, 17, 51]\n",
    "\n",
    "assert get_divisors(1213) == []"
   ]
  },
  {
   "cell_type": "markdown",
   "metadata": {},
   "source": [
    "### Task 2"
   ]
  },
  {
   "cell_type": "markdown",
   "metadata": {},
   "source": [
    "Write the function **get_sorted_full_names(full_names)**, which gets list of strings of full names (full name = \"<first name> <last name>\") and returns the same strings in sorted order, where each string is first sorted by last name and then by first name"
   ]
  },
  {
   "cell_type": "code",
   "execution_count": null,
   "metadata": {},
   "outputs": [],
   "source": [
    "def get_sorted_full_names(array):\n",
    "    for i in range(len(array)):\n",
    "        for j in range(len(array)):\n",
    "            if array[i].split()[1] < array[j].split()[1]:\n",
    "                array[i], array[j] = array[j], array[i]\n",
    "            elif array[i].split()[1] == array[j].split()[1] :\n",
    "                if array[i].split()[0] < array[j].split()[0]:\n",
    "                    array[i], array[j] = array[j], array[i]\n",
    "    return array\n",
    "\n",
    "full_names=['Andrey Larin','Natalia Rostova','Denis Davidov','Denis Bolkonskiy','Sonya Larina','Sonya Rostova','Anastasia Rostova']\n",
    "\n",
    "assert get_sorted_full_names(full_names) == ['Denis Bolkonskiy', 'Denis Davidov', 'Andrey Larin', 'Sonya Larina', 'Anastasia Rostova',\n",
    "                                             'Natalia Rostova', 'Sonya Rostova']"
   ]
  },
  {
   "cell_type": "markdown",
   "metadata": {},
   "source": [
    "### Task 3"
   ]
  },
  {
   "cell_type": "markdown",
   "metadata": {},
   "source": [
    "Make a function **word_counter(text)**, obtaining sequence of words, separated by spaces and/or punctuation marks ,:!.?- and returning a dictionary with keys=unique words and values=how many times words appeared in the text. Uniqueness should be case-sensitive."
   ]
  },
  {
   "cell_type": "code",
   "execution_count": null,
   "metadata": {},
   "outputs": [],
   "source": [
    "exceptions = \",:!.?\"\n",
    "def word_counter(string):\n",
    "    result = {}\n",
    "    string = string.translate(None,exceptions)\n",
    "    for word in string.split():\n",
    "        if result.get(word) == None:\n",
    "            result[word] = 1\n",
    "        else:\n",
    "            result[word] += 1\n",
    "    return result\n",
    "    \n",
    "assert word_counter('The man we saw, saw a saw. The saw, that the man saw, was dangerous.') == {'The': 2, 'a': 1, 'dangerous': 1, \n",
    "                                                                                                'man': 2,  'saw': 5,  'that': 1,\n",
    "                                                                                                'the': 1, 'was': 1, 'we': 1}"
   ]
  },
  {
   "cell_type": "markdown",
   "metadata": {},
   "source": [
    "### Task 4"
   ]
  },
  {
   "cell_type": "markdown",
   "metadata": {},
   "source": [
    "Write a python generator **seven_divisible(n)** which would iterate the numbers, which are divisible by 7, in the range 0,1,...,n-1.\n"
   ]
  },
  {
   "cell_type": "code",
   "execution_count": null,
   "metadata": {},
   "outputs": [],
   "source": [
    "import types\n",
    "def seven_divisible(value):\n",
    "    for i in range(value / 7 + bool(value % 7)):\n",
    "        yield (7 * i)\n",
    "          \n",
    "assert type(seven_divisible(25))==types.GeneratorType\n",
    "\n",
    "assert list(seven_divisible(21))==[0, 7, 14]\n",
    "\n",
    "assert list(seven_divisible(25))==[0, 7, 14, 21]"
   ]
  },
  {
   "cell_type": "markdown",
   "metadata": {},
   "source": [
    "### Task 5"
   ]
  },
  {
   "cell_type": "markdown",
   "metadata": {},
   "source": [
    "Correct the code, so that code is would work as expected by assert statement. Explain unintuitive initial result."
   ]
  },
  {
   "cell_type": "code",
   "execution_count": null,
   "metadata": {},
   "outputs": [],
   "source": [
    "import copy\n",
    "A={'Lagos':15, 'Ankara':5,'Hong-Kong':7}\n",
    "B=copy.deepcopy(A)\n",
    "A['Moscow']=12"
   ]
  },
  {
   "cell_type": "code",
   "execution_count": null,
   "metadata": {},
   "outputs": [],
   "source": [
    "assert 'Moscow' not in B"
   ]
  },
  {
   "cell_type": "code",
   "execution_count": null,
   "metadata": {
    "collapsed": true
   },
   "outputs": [],
   "source": [
    "A=[1,2,3]\n",
    "B=A[:]\n",
    "A.append(4)"
   ]
  },
  {
   "cell_type": "code",
   "execution_count": null,
   "metadata": {
    "collapsed": true
   },
   "outputs": [],
   "source": [
    "assert 4 not in B"
   ]
  },
  {
   "cell_type": "markdown",
   "metadata": {},
   "source": [
    "### Task 6"
   ]
  },
  {
   "cell_type": "markdown",
   "metadata": {},
   "source": [
    "A robot moves in a plane starting from the original point (0,0). The robot can move toward UP, DOWN, LEFT and RIGHT. \n",
    "The numbers after the direction are steps. Please write a function **get_dist(movement)** to compute the distance from current position after \n",
    "a sequence of movement and original point. Movement is given in format \"<DIRECTON> <STEP> <DIRECTON> <STEP> ...\" where <DIRECTION> may be UP,DOWN,RIGHT,LEFT and STEP is a float."
   ]
  },
  {
   "cell_type": "code",
   "execution_count": null,
   "metadata": {},
   "outputs": [],
   "source": [
    "commands = {\"UP\":[1,0], \"DOWN\":[-1,0], \"RIGHT\":[0,1],\"LEFT\":[0,-1]}\n",
    "def get_dist(string):\n",
    "    position = [0,0]\n",
    "    array = string.split()\n",
    "    for i in range(0,len(array),2):\n",
    "        command = array[i]\n",
    "        coef = int(array[i + 1])\n",
    "        step = [coef * i for i in commands[command]]\n",
    "        position = [position[i] + step[i] for i in range(2)]\n",
    "  \n",
    "    distance = (position[0] ** 2 + position[1] ** 2) ** (0.5)\n",
    "    return distance\n",
    "assert get_dist('UP 2 RIGHT 2 DOWN 2')==2\n",
    "\n",
    "assert get_dist('UP 1 RIGHT 1 DOWN 2 LEFT 2')== 2 ** (0.5)\n",
    "\n",
    "assert get_dist('UP 1 RIGHT 1 DOWN 2 LEFT 2 UP 1')==1"
   ]
  },
  {
   "cell_type": "code",
   "execution_count": null,
   "metadata": {
    "collapsed": true
   },
   "outputs": [],
   "source": []
  },
  {
   "cell_type": "code",
   "execution_count": null,
   "metadata": {
    "collapsed": true
   },
   "outputs": [],
   "source": []
  }
 ],
 "metadata": {
  "anaconda-cloud": {},
  "kernelspec": {
   "display_name": "Python 3",
   "language": "python",
   "name": "python3"
  },
  "language_info": {
   "codemirror_mode": {
    "name": "ipython",
    "version": 3
   },
   "file_extension": ".py",
   "mimetype": "text/x-python",
   "name": "python",
   "nbconvert_exporter": "python",
   "pygments_lexer": "ipython3",
   "version": "3.5.2"
  }
 },
 "nbformat": 4,
 "nbformat_minor": 1
}
