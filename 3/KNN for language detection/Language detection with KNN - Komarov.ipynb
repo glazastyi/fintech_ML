{
 "cells": [
  {
   "cell_type": "markdown",
   "metadata": {},
   "source": [
    "# Laguage detection task"
   ]
  },
  {
   "cell_type": "code",
   "execution_count": 1,
   "metadata": {
    "collapsed": false
   },
   "outputs": [
    {
     "name": "stderr",
     "output_type": "stream",
     "text": [
      "/Users/Nikita/anaconda/lib/python2.7/site-packages/matplotlib/font_manager.py:273: UserWarning: Matplotlib is building the font cache using fc-list. This may take a moment.\n",
      "  warnings.warn('Matplotlib is building the font cache using fc-list. This may take a moment.')\n"
     ]
    },
    {
     "name": "stdout",
     "output_type": "stream",
     "text": [
      "Populating the interactive namespace from numpy and matplotlib\n"
     ]
    }
   ],
   "source": [
    "%pylab inline"
   ]
  },
  {
   "cell_type": "markdown",
   "metadata": {},
   "source": [
    "#### In this task objects will be words either in English or in French, and you will have to implement K-NN classifier predicting the language of each word by its Levenstein (edit) distance to the words in the training set."
   ]
  },
  {
   "cell_type": "markdown",
   "metadata": {},
   "source": [
    "* Download python wheel Python-Levenstein from <http://www.lfd.uci.edu/~gohlke/pythonlibs/#python-levenshtein>\n",
    "* Install it with pip intall [wheel-name].\n",
    "* Levenstein distance can now be computed as Levenshtein.distance(source, target)"
   ]
  },
  {
   "cell_type": "code",
   "execution_count": 2,
   "metadata": {
    "collapsed": false
   },
   "outputs": [],
   "source": [
    "import Levenshtein  "
   ]
  },
  {
   "cell_type": "code",
   "execution_count": 3,
   "metadata": {
    "collapsed": true
   },
   "outputs": [],
   "source": [
    "import sklearn as skl"
   ]
  },
  {
   "cell_type": "code",
   "execution_count": 4,
   "metadata": {
    "collapsed": true
   },
   "outputs": [],
   "source": [
    "with open('Data/en.txt') as f:\n",
    "    english = f.readlines()\n",
    "    \n",
    "with open('Data/fr.txt') as f:\n",
    "    french = f.readlines()"
   ]
  },
  {
   "cell_type": "code",
   "execution_count": 5,
   "metadata": {
    "collapsed": false
   },
   "outputs": [
    {
     "data": {
      "text/plain": [
       "(164144, 191448)"
      ]
     },
     "execution_count": 5,
     "metadata": {},
     "output_type": "execute_result"
    }
   ],
   "source": [
    "len(english), len(french)"
   ]
  },
  {
   "cell_type": "code",
   "execution_count": 6,
   "metadata": {
    "collapsed": true
   },
   "outputs": [],
   "source": [
    "random.seed(0)"
   ]
  },
  {
   "cell_type": "code",
   "execution_count": 7,
   "metadata": {
    "collapsed": false
   },
   "outputs": [
    {
     "data": {
      "text/plain": [
       "['twist\\n', 'author\\n', 'charles\\n', 'dickens\\n']"
      ]
     },
     "execution_count": 7,
     "metadata": {},
     "output_type": "execute_result"
    }
   ],
   "source": [
    "english[:4]"
   ]
  },
  {
   "cell_type": "code",
   "execution_count": 8,
   "metadata": {
    "collapsed": false
   },
   "outputs": [
    {
     "data": {
      "text/plain": [
       "['des\\n', 'mati\\n', 'res\\n', 'chapitre\\n']"
      ]
     },
     "execution_count": 8,
     "metadata": {},
     "output_type": "execute_result"
    }
   ],
   "source": [
    "french[:4]"
   ]
  },
  {
   "cell_type": "code",
   "execution_count": 9,
   "metadata": {
    "collapsed": true
   },
   "outputs": [],
   "source": [
    "random.seed(0)"
   ]
  },
  {
   "cell_type": "code",
   "execution_count": 10,
   "metadata": {
    "collapsed": true
   },
   "outputs": [],
   "source": [
    "random.shuffle(english)"
   ]
  },
  {
   "cell_type": "code",
   "execution_count": 11,
   "metadata": {
    "collapsed": true
   },
   "outputs": [],
   "source": [
    "random.shuffle(french)"
   ]
  },
  {
   "cell_type": "markdown",
   "metadata": {},
   "source": [
    "#### Forming train and test sets for your task."
   ]
  },
  {
   "cell_type": "code",
   "execution_count": 12,
   "metadata": {
    "collapsed": false
   },
   "outputs": [],
   "source": [
    "N1 = 15000\n",
    "N2 = 500\n",
    "X_train = english[:N1]+french[:N1]\n",
    "Y_train = [1]*N1 + [2]*N1\n",
    "X_test = english[N1:N1+N2]+french[N1:N1+N2]\n",
    "Y_test = [1]*N2 + [2]*N2"
   ]
  },
  {
   "cell_type": "code",
   "execution_count": 13,
   "metadata": {
    "collapsed": false
   },
   "outputs": [],
   "source": [
    "inds = arange(len(X_train)) \n",
    "inds = random.permutation(inds)\n",
    "X_train = [X_train[ind] for ind in inds]\n",
    "Y_train = [Y_train[ind] for ind in inds]\n",
    "inds = arange(len(X_test))\n",
    "inds = random.permutation(inds)\n",
    "X_test = [X_test[ind] for ind in inds]\n",
    "Y_test = [Y_test[ind] for ind in inds]"
   ]
  },
  {
   "cell_type": "markdown",
   "metadata": {},
   "source": [
    "#### Implement KNN class having constructor, fit(X,Y), predict_one(x) and predict(X) methods.\n",
    "\n",
    "* constructor should have parameter K\n",
    "* predict_one(x) predicts class for single object\n",
    "* predict(X) predicts class for each row of X\n",
    "\n",
    "You will need this class, because default implementation of K-NN \n",
    "requires objects to be numeric vectors and your objects are strings."
   ]
  },
  {
   "cell_type": "code",
   "execution_count": 14,
   "metadata": {
    "collapsed": false
   },
   "outputs": [],
   "source": [
    "class KNN(object):\n",
    "    \n",
    "    def __init__(self,k):\n",
    "        self.k = k\n",
    "    \n",
    "    def fit(self,X,Y):\n",
    "        self.X_train = X\n",
    "        self.Y_train = Y\n",
    "    \n",
    "    def predict_one(self,x):\n",
    "        result = []\n",
    "        i = 0\n",
    "        for el in self.X_train:\n",
    "            distance = Levenshtein.distance(el,x)\n",
    "            result.append((self.Y_train[i], distance))\n",
    "            i+=1\n",
    "            \n",
    "            \n",
    "        result.sort(key=lambda val: val[1])\n",
    "        tmp = [el[0] for el in result[:self.k]]\n",
    "        mode = max(set(tmp), key=tmp.count)\n",
    "        return mode\n",
    "        \n",
    "    def predict(self,lst):\n",
    "        result = []\n",
    "        for el in lst:\n",
    "            result.append(self.predict_one(el))\n",
    "        return result\n",
    "        \n"
   ]
  },
  {
   "cell_type": "markdown",
   "metadata": {},
   "source": [
    "#### For K=[1,3,5,7,11,21] estimate accuracy of your KNN and plot the dependency between K and accuracy."
   ]
  },
  {
   "cell_type": "code",
   "execution_count": 15,
   "metadata": {
    "collapsed": false
   },
   "outputs": [
    {
     "name": "stdout",
     "output_type": "stream",
     "text": [
      "k = 1 proportion of correct 0.918\n",
      "k = 3 proportion of correct 0.919\n",
      "k = 5 proportion of correct 0.915\n",
      "k = 7 proportion of correct 0.904\n",
      "k = 11 proportion of correct 0.899\n",
      "k = 21 proportion of correct 0.884\n"
     ]
    }
   ],
   "source": [
    "K=[1,3,5,7,11,21]\n",
    "for k in K:\n",
    "    experiment = KNN(k)\n",
    "    experiment.fit(X_train,Y_train)\n",
    "    result = experiment.predict(X_test)\n",
    "    correct = 0.0\n",
    "    for i in range(len(result)):\n",
    "        if result[i] == Y_test[i]:\n",
    "            correct += 1\n",
    "    print \"k = %s\"%k, \"proportion of correct %s\"%(correct/len(result))"
   ]
  },
  {
   "cell_type": "markdown",
   "metadata": {
    "collapsed": true
   },
   "source": [
    "#### What value of K is optimal? Explain"
   ]
  },
  {
   "cell_type": "markdown",
   "metadata": {
    "collapsed": true
   },
   "source": [
    "The optimal value for k is 3. The best accuracy on test data"
   ]
  }
 ],
 "metadata": {
  "anaconda-cloud": {},
  "kernelspec": {
   "display_name": "Python [Root]",
   "language": "python",
   "name": "Python [Root]"
  },
  "language_info": {
   "codemirror_mode": {
    "name": "ipython",
    "version": 2
   },
   "file_extension": ".py",
   "mimetype": "text/x-python",
   "name": "python",
   "nbconvert_exporter": "python",
   "pygments_lexer": "ipython2",
   "version": "2.7.12"
  }
 },
 "nbformat": 4,
 "nbformat_minor": 2
}
